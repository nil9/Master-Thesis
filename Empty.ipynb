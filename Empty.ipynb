{
 "cells": [
  {
   "cell_type": "code",
   "execution_count": 20,
   "metadata": {},
   "outputs": [
    {
     "name": "stdout",
     "output_type": "stream",
     "text": [
      "C:\\Users\\nilanjan.das\\EmptyFile\\input\\2\\120101_1_8729_20181101083946.nt\n",
      "C:\\Users\\nilanjan.das\\EmptyFile\\input\\2\\120101_1_8730_20181101084017.nt\n",
      "C:\\Users\\nilanjan.das\\EmptyFile\\input\\2\\120101_1_8731_20181101161445.nt\n",
      "C:\\Users\\nilanjan.das\\EmptyFile\\input\\2\\120101_1_8733_20181101161843.nt\n",
      "C:\\Users\\nilanjan.das\\EmptyFile\\input\\2\\120101_1_8734_20181101184751.nt\n",
      "C:\\Users\\nilanjan.das\\EmptyFile\\input\\2\\120101_1_8735_20181101184807.nt\n",
      "C:\\Users\\nilanjan.das\\EmptyFile\\input\\2\\120101_2_2241_20181101084019.nt\n",
      "C:\\Users\\nilanjan.das\\EmptyFile\\input\\2\\120101_2_2242_20181101084029.nt\n",
      "C:\\Users\\nilanjan.das\\EmptyFile\\input\\2\\120101_2_2243_20181101184747.nt\n",
      "C:\\Users\\nilanjan.das\\EmptyFile\\input\\2\\120101_2_2244_20181101184801.nt\n",
      "C:\\Users\\nilanjan.das\\EmptyFile\\input\\2\\120101_3_9682_20181101084816.nt\n",
      "C:\\Users\\nilanjan.das\\EmptyFile\\input\\2\\120101_3_9683_20181101084821.nt\n",
      "C:\\Users\\nilanjan.das\\EmptyFile\\input\\2\\120101_3_9684_20181101101326.nt\n",
      "C:\\Users\\nilanjan.das\\EmptyFile\\input\\3\\120101_1_8729_20181101083946.nt\n",
      "C:\\Users\\nilanjan.das\\EmptyFile\\input\\3\\120101_1_8730_20181101084017.nt\n",
      "C:\\Users\\nilanjan.das\\EmptyFile\\input\\3\\120101_1_8731_20181101161445.nt\n",
      "C:\\Users\\nilanjan.das\\EmptyFile\\input\\3\\120101_1_8733_20181101161843.nt\n",
      "C:\\Users\\nilanjan.das\\EmptyFile\\input\\3\\120101_1_8734_20181101184751.nt\n",
      "C:\\Users\\nilanjan.das\\EmptyFile\\input\\3\\120101_1_8735_20181101184807.nt\n",
      "C:\\Users\\nilanjan.das\\EmptyFile\\input\\3\\120101_2_2241_20181101084019.nt\n",
      "C:\\Users\\nilanjan.das\\EmptyFile\\input\\3\\120101_2_2242_20181101084029.nt\n",
      "C:\\Users\\nilanjan.das\\EmptyFile\\input\\3\\120101_2_2243_20181101184747.nt\n",
      "C:\\Users\\nilanjan.das\\EmptyFile\\input\\3\\120101_2_2244_20181101184801.nt\n",
      "C:\\Users\\nilanjan.das\\EmptyFile\\input\\3\\120101_3_9682_20181101084816.nt\n",
      "C:\\Users\\nilanjan.das\\EmptyFile\\input\\3\\120101_3_9683_20181101084821.nt\n",
      "C:\\Users\\nilanjan.das\\EmptyFile\\input\\3\\120101_3_9684_20181101101326.nt\n"
     ]
    }
   ],
   "source": [
    "import os, os.path\n",
    "\n",
    "for root, _, files in os.walk(r\"C:\\Users\\nilanjan.das\\EmptyFile\\input\"):\n",
    "    for f in files:\n",
    "        fullpath = os.path.join(root, f)\n",
    "        try:\n",
    "            if os.path.getsize(fullpath) < 2 * 1024:   #set file size in kb\n",
    "                print (fullpath)\n",
    "                os.remove(fullpath)\n",
    "        except WindowsError:\n",
    "            print (\"Error\" + fullpath)"
   ]
  },
  {
   "cell_type": "code",
   "execution_count": null,
   "metadata": {},
   "outputs": [],
   "source": []
  },
  {
   "cell_type": "code",
   "execution_count": null,
   "metadata": {},
   "outputs": [],
   "source": []
  },
  {
   "cell_type": "code",
   "execution_count": null,
   "metadata": {},
   "outputs": [],
   "source": []
  }
 ],
 "metadata": {
  "kernelspec": {
   "display_name": "Python 3",
   "language": "python",
   "name": "python3"
  },
  "language_info": {
   "codemirror_mode": {
    "name": "ipython",
    "version": 3
   },
   "file_extension": ".py",
   "mimetype": "text/x-python",
   "name": "python",
   "nbconvert_exporter": "python",
   "pygments_lexer": "ipython3",
   "version": "3.7.4"
  }
 },
 "nbformat": 4,
 "nbformat_minor": 2
}
