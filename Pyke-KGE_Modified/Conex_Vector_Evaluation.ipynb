{
 "cells": [
  {
   "cell_type": "code",
   "execution_count": 13,
   "metadata": {},
   "outputs": [],
   "source": [
    "\n",
    "from numpy import array\n",
    "import pickle\n",
    "import numpy as np\n",
    "import random\n",
    "from scipy import spatial\n",
    "import itertools\n",
    "\n",
    "from collections import ChainMap\n",
    "\n",
    "from tqdm import tqdm"
   ]
  },
  {
   "cell_type": "code",
   "execution_count": 32,
   "metadata": {},
   "outputs": [],
   "source": [
    "e1_idx_list = 882\n",
    "\n",
    "with open('item_index.p', 'rb') as f: \n",
    "    embeddings = [pickle.load(f) for j in range(e1_idx_list)]"
   ]
  },
  {
   "cell_type": "code",
   "execution_count": 33,
   "metadata": {},
   "outputs": [],
   "source": [
    "\n",
    "\n",
    "embeddings = dict(ChainMap(*embeddings))\n"
   ]
  },
  {
   "cell_type": "code",
   "execution_count": 34,
   "metadata": {},
   "outputs": [],
   "source": [
    "# Creating a dictionary with only the item embeddings\n",
    "\n",
    "\n",
    "# dictionary of item embeddings\n",
    "conex_item_embedddings = {} \n",
    "for key, val in embeddings.items(): \n",
    "    if key.startswith('http://hm2.com/article#'):\n",
    "        \n",
    "        \n",
    "        conex_item_embedddings.update( {key : val} )\n",
    "          \n",
    "#print(len(conex_item_embedddings))\n",
    "pickle.dump( conex_item_embedddings, open( \"conex_item_embedddings.p\", \"wb\" ) )"
   ]
  },
  {
   "cell_type": "code",
   "execution_count": 15,
   "metadata": {},
   "outputs": [],
   "source": [
    "### this cell stores the normalized item_embeddings\n",
    "nomalized_item_embedddings = {}\n",
    "\n",
    "for k,v in conex_item_embedddings.items():\n",
    "    v_norm = np.linalg.norm(v)\n",
    "    nomalized_item_embedddings.update({k:v_norm})"
   ]
  },
  {
   "cell_type": "code",
   "execution_count": 16,
   "metadata": {},
   "outputs": [
    {
     "data": {
      "text/plain": [
       "dict_keys(['http://hm2.com/article#693764013199003', 'http://hm2.com/article#661917001188004', 'http://hm2.com/article#615021003188003', 'http://hm2.com/article#700969005188002', 'http://hm2.com/article#706268043199002', 'http://hm2.com/article#741394001199004', 'http://hm2.com/article#686564004199002', 'http://hm2.com/article#715684001199002', 'http://hm2.com/article#488561027199001', 'http://hm2.com/article#570003002199003', 'http://hm2.com/article#570003001199003', 'http://hm2.com/article#586336003199002', 'http://hm2.com/article#734912002199063', 'http://hm2.com/article#634013005199003', 'http://hm2.com/article#721390006199064'])"
      ]
     },
     "execution_count": 16,
     "metadata": {},
     "output_type": "execute_result"
    }
   ],
   "source": [
    "## slicing 15 items from the dictionary\n",
    "\n",
    "sample_item_embedddings = dict(itertools.islice(conex_item_embedddings.items(), 15))\n",
    "sample_item_embedddings.keys()"
   ]
  },
  {
   "cell_type": "code",
   "execution_count": 25,
   "metadata": {},
   "outputs": [],
   "source": [
    "sample_item_embedddings_values = sample_item_embedddings.values()\n",
    "\n",
    "sample_item_embedddings_list = list(sample_item_embedddings_values)\n"
   ]
  },
  {
   "cell_type": "code",
   "execution_count": 26,
   "metadata": {},
   "outputs": [
    {
     "name": "stderr",
     "output_type": "stream",
     "text": [
      "100%|██████████| 15/15 [00:00<00:00, 851.99it/s]\n"
     ]
    }
   ],
   "source": [
    "from tqdm import tqdm\n",
    "\n",
    "## this cell calculates the cosine similarity among y and y_samples\n",
    "\n",
    "am_list = []\n",
    "total_items = len(conex_item_embedddings)\n",
    "\n",
    "for y in tqdm(sample_item_embedddings_list): \n",
    "    arithmatic_mean = 0\n",
    "\n",
    "    y_norm = np.linalg.norm(y)\n",
    "    original_item_embedding_values = list(conex_item_embedddings.values())\n",
    "    count = 0\n",
    "    Summation = 0\n",
    "    for k,v in nomalized_item_embedddings.items():\n",
    "        \n",
    "        # manually compute cosine similarity\n",
    "        dot = np.dot(y, original_item_embedding_values[count])\n",
    "        count +=1\n",
    "        result = dot / (y_norm * v)\n",
    "        Summation = Summation + result\n",
    "        #local_cosine.update({k:result})\n",
    "   \n",
    "    arithmatic_mean = Summation/total_items\n",
    "    am_list.append(arithmatic_mean)\n",
    "    \n",
    "## dumping the sample outputs\n",
    "pickle.dump( am_list, open( \"am_list_conex.p\", \"wb\" ) )"
   ]
  },
  {
   "cell_type": "code",
   "execution_count": 23,
   "metadata": {},
   "outputs": [],
   "source": [
    "round_am = []\n",
    "for i in am_list:\n",
    "    a = round(i,3)\n",
    "    round_am.append(a)"
   ]
  },
  {
   "cell_type": "code",
   "execution_count": 24,
   "metadata": {},
   "outputs": [
    {
     "data": {
      "text/plain": [
       "[0.028,\n",
       " 0.026,\n",
       " 0.048,\n",
       " 0.032,\n",
       " 0.022,\n",
       " 0.032,\n",
       " 0.038,\n",
       " 0.013,\n",
       " 0.01,\n",
       " 0.029,\n",
       " 0.033,\n",
       " 0.023,\n",
       " 0.025,\n",
       " 0.013,\n",
       " 0.042]"
      ]
     },
     "execution_count": 24,
     "metadata": {},
     "output_type": "execute_result"
    }
   ],
   "source": [
    "round_am"
   ]
  },
  {
   "cell_type": "code",
   "execution_count": null,
   "metadata": {},
   "outputs": [],
   "source": [
    "[0.028,0.026,0.048,0.032,0.022, 0.032,0.038, 0.013, 0.01, 0.029, 0.033, 0.023, 0.025, 0.013, 0.042]"
   ]
  }
 ],
 "metadata": {
  "kernelspec": {
   "display_name": "Python 3",
   "language": "python",
   "name": "python3"
  },
  "language_info": {
   "codemirror_mode": {
    "name": "ipython",
    "version": 3
   },
   "file_extension": ".py",
   "mimetype": "text/x-python",
   "name": "python",
   "nbconvert_exporter": "python",
   "pygments_lexer": "ipython3",
   "version": "3.7.6"
  }
 },
 "nbformat": 4,
 "nbformat_minor": 4
}
