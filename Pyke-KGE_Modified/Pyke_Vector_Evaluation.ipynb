{
 "cells": [
  {
   "cell_type": "code",
   "execution_count": 1,
   "metadata": {},
   "outputs": [],
   "source": [
    "\n",
    "from numpy import array\n",
    "import pickle\n",
    "import numpy as np\n",
    "import random\n",
    "from scipy import spatial\n",
    "import itertools\n",
    "\n",
    "from collections import ChainMap\n",
    "\n",
    "from tqdm import tqdm"
   ]
  },
  {
   "cell_type": "code",
   "execution_count": 2,
   "metadata": {},
   "outputs": [],
   "source": [
    "# Load the dictionary with only the item embeddings\n",
    "\n",
    "item_embedddings = pickle.load( open( \"item_embedddings.p\", \"rb\" ) )"
   ]
  },
  {
   "cell_type": "code",
   "execution_count": 3,
   "metadata": {},
   "outputs": [],
   "source": [
    "### this cell stores the normalized item_embeddings\n",
    "nomalized_item_embedddings = {}\n",
    "\n",
    "for k,v in item_embedddings.items():\n",
    "    v_norm = np.linalg.norm(v)\n",
    "    nomalized_item_embedddings.update({k:v_norm})"
   ]
  },
  {
   "cell_type": "code",
   "execution_count": 4,
   "metadata": {},
   "outputs": [],
   "source": [
    "conex_key_list = ['http://hm2.com/article#693764013199003', 'http://hm2.com/article#661917001188004', 'http://hm2.com/article#615021003188003', 'http://hm2.com/article#700969005188002', 'http://hm2.com/article#706268043199002', 'http://hm2.com/article#741394001199004', 'http://hm2.com/article#686564004199002', 'http://hm2.com/article#715684001199002', 'http://hm2.com/article#488561027199001', 'http://hm2.com/article#570003002199003', 'http://hm2.com/article#570003001199003', 'http://hm2.com/article#586336003199002', 'http://hm2.com/article#734912002199063', 'http://hm2.com/article#634013005199003', 'http://hm2.com/article#721390006199064']"
   ]
  },
  {
   "cell_type": "code",
   "execution_count": 7,
   "metadata": {},
   "outputs": [
    {
     "name": "stdout",
     "output_type": "stream",
     "text": [
      "15\n"
     ]
    }
   ],
   "source": [
    "\n",
    "## 15 item sample\n",
    "sample_item_embedddings = {} \n",
    "for key, val in item_embedddings.items(): \n",
    "    if key in conex_key_list:\n",
    "        \n",
    "        \n",
    "        sample_item_embedddings.update( {key : val} )\n",
    "          \n",
    "pickle.dump( sample_item_embedddings, open( \"pyke_sample_item_embedddings.p\", \"wb\" ) )\n",
    "print(len(sample_item_embedddings))"
   ]
  },
  {
   "cell_type": "code",
   "execution_count": 8,
   "metadata": {},
   "outputs": [],
   "source": [
    "sample_item_embedddings_values = sample_item_embedddings.values()\n",
    "\n",
    "sample_item_embedddings_list = list(sample_item_embedddings_values)"
   ]
  },
  {
   "cell_type": "code",
   "execution_count": 9,
   "metadata": {},
   "outputs": [
    {
     "name": "stderr",
     "output_type": "stream",
     "text": [
      "100%|██████████| 15/15 [00:00<00:00, 227.31it/s]\n"
     ]
    }
   ],
   "source": [
    "from tqdm import tqdm\n",
    "\n",
    "## this cell calculates the cosine similarity among y and y_samples\n",
    "\n",
    "am_list = []\n",
    "total_items = len(item_embedddings)\n",
    "\n",
    "for y in tqdm(sample_item_embedddings_list): \n",
    "    arithmatic_mean = 0\n",
    "\n",
    "    y_norm = np.linalg.norm(y)\n",
    "    original_item_embedding_values = list(item_embedddings.values())\n",
    "    count = 0\n",
    "    Summation = 0\n",
    "    for k,v in nomalized_item_embedddings.items():\n",
    "        \n",
    "        # manually compute cosine similarity\n",
    "        dot = np.dot(y, original_item_embedding_values[count])\n",
    "        count +=1\n",
    "        result = dot / (y_norm * v)\n",
    "        Summation = Summation + result\n",
    "        #local_cosine.update({k:result})\n",
    "   \n",
    "    arithmatic_mean = Summation/total_items\n",
    "    am_list.append(arithmatic_mean)\n",
    "    \n",
    "## dumping the sample outputs\n",
    "pickle.dump( am_list, open( \"am_list_pyke.p\", \"wb\" ) )"
   ]
  },
  {
   "cell_type": "code",
   "execution_count": 11,
   "metadata": {},
   "outputs": [],
   "source": [
    "round_am = []\n",
    "for i in am_list:\n",
    "    a = round(i,3)\n",
    "    round_am.append(a)"
   ]
  },
  {
   "cell_type": "code",
   "execution_count": 12,
   "metadata": {},
   "outputs": [
    {
     "data": {
      "text/plain": [
       "[0.974,\n",
       " 0.995,\n",
       " 0.998,\n",
       " 0.998,\n",
       " 0.998,\n",
       " 0.998,\n",
       " 0.991,\n",
       " 0.998,\n",
       " 0.998,\n",
       " 0.998,\n",
       " 0.998,\n",
       " 0.998,\n",
       " 0.998,\n",
       " 0.998,\n",
       " 0.998]"
      ]
     },
     "execution_count": 12,
     "metadata": {},
     "output_type": "execute_result"
    }
   ],
   "source": [
    "round_am"
   ]
  },
  {
   "cell_type": "code",
   "execution_count": null,
   "metadata": {},
   "outputs": [],
   "source": [
    "[0.974, 0.995, 0.998, 0.998, 0.998, 0.998, 0.991, 0.998, 0.998, 0.998, 0.998, 0.998, 0.998, 0.998, 0.998]"
   ]
  }
 ],
 "metadata": {
  "kernelspec": {
   "display_name": "Python 3",
   "language": "python",
   "name": "python3"
  },
  "language_info": {
   "codemirror_mode": {
    "name": "ipython",
    "version": 3
   },
   "file_extension": ".py",
   "mimetype": "text/x-python",
   "name": "python",
   "nbconvert_exporter": "python",
   "pygments_lexer": "ipython3",
   "version": "3.7.6"
  }
 },
 "nbformat": 4,
 "nbformat_minor": 4
}
