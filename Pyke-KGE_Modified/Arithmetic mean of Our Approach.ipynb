{
 "cells": [
  {
   "cell_type": "code",
   "execution_count": 1,
   "metadata": {},
   "outputs": [],
   "source": [
    "from numpy import array\n",
    "import pickle\n",
    "import numpy as np\n",
    "import random\n",
    "from scipy import spatial\n",
    "import itertools\n",
    "\n",
    "from collections import ChainMap\n",
    "\n",
    "from tqdm import tqdm"
   ]
  },
  {
   "cell_type": "code",
   "execution_count": 3,
   "metadata": {},
   "outputs": [],
   "source": [
    "# Load the dictionary with only the item embeddings\n",
    "\n",
    "item_embedddings = pickle.load( open( \"item_embedddings.p\", \"rb\" ) )\n"
   ]
  },
  {
   "cell_type": "code",
   "execution_count": 4,
   "metadata": {},
   "outputs": [
    {
     "name": "stdout",
     "output_type": "stream",
     "text": [
      "151156\n"
     ]
    }
   ],
   "source": [
    "### this cell stores the normalized item_embeddings\n",
    "nomalized_item_embedddings = {}\n",
    "\n",
    "for k,v in item_embedddings.items():\n",
    "    v_norm = np.linalg.norm(v)\n",
    "    nomalized_item_embedddings.update({k:v_norm})\n"
   ]
  },
  {
   "cell_type": "code",
   "execution_count": 5,
   "metadata": {},
   "outputs": [],
   "source": [
    "# Load the output embeddings from LSTM\n",
    "\n",
    "output_embeddings = pickle.load( open( \"output_embeddings.p\", \"rb\" ) )"
   ]
  },
  {
   "cell_type": "code",
   "execution_count": 6,
   "metadata": {},
   "outputs": [],
   "source": [
    "## convert output embedings into 1 -D\n",
    "\n",
    "new_output_embeddings = list(itertools.chain.from_iterable(output_embeddings)) \n",
    "\n",
    "sample_output_embeddings = new_output_embeddings[:15]"
   ]
  },
  {
   "cell_type": "code",
   "execution_count": 7,
   "metadata": {},
   "outputs": [
    {
     "name": "stderr",
     "output_type": "stream",
     "text": [
      "100%|██████████| 100/100 [02:07<00:00,  1.28s/it]\n"
     ]
    }
   ],
   "source": [
    "from tqdm import tqdm\n",
    "\n",
    "## this cell calculates the cosine similarity among y and y_hats\n",
    "\n",
    "am_list = []\n",
    "total_items = len(item_embedddings)\n",
    "\n",
    "for yhat in tqdm(sample_output_embeddings): \n",
    "    arithmatic_mean = 0\n",
    "\n",
    "    yhat_norm = np.linalg.norm(yhat)\n",
    "    original_item_embedding_values = list(item_embedddings.values())\n",
    "    count = 0\n",
    "    Summation = 0\n",
    "    for k,v in nomalized_item_embedddings.items():\n",
    "        \n",
    "        # manually compute cosine similarity\n",
    "        dot = np.dot(yhat, original_item_embedding_values[count])\n",
    "        count +=1\n",
    "        result = dot / (yhat_norm * v)\n",
    "        Summation = Summation + result\n",
    "        #local_cosine.update({k:result})\n",
    "   \n",
    "    arithmatic_mean = Summation/total_items\n",
    "    am_list.append(arithmatic_mean)\n",
    "    \n",
    "## dumping the sample outputs\n",
    "pickle.dump( am_list, open( \"am_list.p\", \"wb\" ) )"
   ]
  },
  {
   "cell_type": "code",
   "execution_count": 12,
   "metadata": {},
   "outputs": [],
   "source": [
    "round_am = []\n",
    "for i in am_list:\n",
    "    a = round(i,6)\n",
    "    round_am.append(a)"
   ]
  },
  {
   "cell_type": "code",
   "execution_count": 37,
   "metadata": {},
   "outputs": [],
   "source": [
    "\n"
   ]
  },
  {
   "cell_type": "code",
   "execution_count": null,
   "metadata": {},
   "outputs": [],
   "source": []
  },
  {
   "cell_type": "code",
   "execution_count": null,
   "metadata": {},
   "outputs": [],
   "source": []
  }
 ],
 "metadata": {
  "kernelspec": {
   "display_name": "Python 3",
   "language": "python",
   "name": "python3"
  },
  "language_info": {
   "codemirror_mode": {
    "name": "ipython",
    "version": 3
   },
   "file_extension": ".py",
   "mimetype": "text/x-python",
   "name": "python",
   "nbconvert_exporter": "python",
   "pygments_lexer": "ipython3",
   "version": "3.7.6"
  }
 },
 "nbformat": 4,
 "nbformat_minor": 4
}
