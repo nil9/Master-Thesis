{
 "cells": [
  {
   "cell_type": "code",
   "execution_count": 1,
   "metadata": {},
   "outputs": [],
   "source": [
    "from helper_classes import PYKE\n",
    "from helper_classes import Parser\n",
    "from helper_classes import DataAnalyser\n",
    "from helper_classes import PPMI\n",
    "import os\n",
    "import util as ut\n",
    "import numpy as np"
   ]
  },
  {
   "cell_type": "code",
   "execution_count": 2,
   "metadata": {},
   "outputs": [],
   "source": [
    "random_state = 1\n",
    "np.random.seed(random_state)"
   ]
  },
  {
   "cell_type": "code",
   "execution_count": 3,
   "metadata": {},
   "outputs": [],
   "source": [
    "\n",
    "# DEFINE MODEL PARAMS\n",
    "K = 45\n",
    "num_of_dims = 50\n",
    "bound_on_iter = 30\n",
    "omega = 0.45557\n",
    "e_release = 0.0414"
   ]
  },
  {
   "cell_type": "code",
   "execution_count": 10,
   "metadata": {},
   "outputs": [],
   "source": [
    "def converter(kg_path):\n",
    "    storage_path, experiment_folder = ut.create_experiment_folder()\n",
    "    print(storage_path)\n",
    "    print(experiment_folder)\n",
    "\n",
    "    parser = Parser(p_folder=storage_path, k=K)\n",
    "\n",
    "    parser.set_similarity_measure(PPMI)\n",
    "\n",
    "    model = PYKE()\n",
    "\n",
    "    analyser = DataAnalyser(p_folder=storage_path)\n",
    "    # For the illustration purpusoes lets only process first 5000 ntriples from each given file.\n",
    "    # To reproduce  reported results => parser.pipeline_of_preprocessing(kg_path)\n",
    "    holder = parser.pipeline_of_preprocessing(kg_path,bound=5000)\n",
    "    return storage_path, holder"
   ]
  },
  {
   "cell_type": "code",
   "execution_count": 11,
   "metadata": {},
   "outputs": [
    {
     "name": "stdout",
     "output_type": "stream",
     "text": [
      "/home/sami/pyke-KGE/Experiments/2020-05-25 11:50:40.187502\n",
      "/home/sami/pyke-KGE/Experiments\n",
      "\n",
      "\n",
      "###### Preprocessing  starts ######\n",
      "\n",
      "\n",
      "###### Constructing Inverted Index  starts ######\n",
      "Number of RDF triples: 114414\n",
      "Number of vocabulary terms:  20793\n",
      "Number of subjects:  10630\n",
      "Constructing Inverted Index  took  3.4953501224517822  seconds\n",
      "\n",
      "\n",
      "\n",
      "###### Calculation of PPMIs  starts ######\n",
      "Calculation of PPMIs  took  4.233114957809448  seconds\n",
      "\n",
      "Preprocessing  took  7.7399210929870605  seconds\n",
      "\n",
      "/home/sami/pyke-KGE/Experiments/2020-05-25 11:50:47.927805\n",
      "/home/sami/pyke-KGE/Experiments\n",
      "\n",
      "\n",
      "###### Preprocessing  starts ######\n",
      "\n",
      "\n",
      "###### Constructing Inverted Index  starts ######\n",
      "Number of RDF triples: 125756\n",
      "Number of vocabulary terms:  22231\n",
      "Number of subjects:  11345\n",
      "Constructing Inverted Index  took  3.856618642807007  seconds\n",
      "\n",
      "\n",
      "\n",
      "###### Calculation of PPMIs  starts ######\n",
      "Calculation of PPMIs  took  4.8616862297058105  seconds\n",
      "\n",
      "Preprocessing  took  8.728749990463257  seconds\n",
      "\n",
      "/home/sami/pyke-KGE/Experiments/2020-05-25 11:50:56.669284\n",
      "/home/sami/pyke-KGE/Experiments\n",
      "\n",
      "\n",
      "###### Preprocessing  starts ######\n",
      "\n",
      "\n",
      "###### Constructing Inverted Index  starts ######\n",
      "Number of RDF triples: 135936\n",
      "Number of vocabulary terms:  23119\n",
      "Number of subjects:  11790\n",
      "Constructing Inverted Index  took  3.874136447906494  seconds\n",
      "\n",
      "\n",
      "\n",
      "###### Calculation of PPMIs  starts ######\n",
      "Calculation of PPMIs  took  5.313204288482666  seconds\n",
      "\n",
      "Preprocessing  took  9.198710918426514  seconds\n",
      "\n",
      "/home/sami/pyke-KGE/Experiments/2020-05-25 11:51:05.881328\n",
      "/home/sami/pyke-KGE/Experiments\n",
      "\n",
      "\n",
      "###### Preprocessing  starts ######\n",
      "\n",
      "\n",
      "###### Constructing Inverted Index  starts ######\n",
      "Number of RDF triples: 139066\n",
      "Number of vocabulary terms:  23917\n",
      "Number of subjects:  12190\n",
      "Constructing Inverted Index  took  3.4630165100097656  seconds\n",
      "\n",
      "\n",
      "\n",
      "###### Calculation of PPMIs  starts ######\n",
      "Calculation of PPMIs  took  6.045961380004883  seconds\n",
      "\n",
      "Preprocessing  took  9.521050691604614  seconds\n",
      "\n",
      "/home/sami/pyke-KGE/Experiments/2020-05-25 11:51:15.414065\n",
      "/home/sami/pyke-KGE/Experiments\n",
      "\n",
      "\n",
      "###### Preprocessing  starts ######\n",
      "\n",
      "\n",
      "###### Constructing Inverted Index  starts ######\n",
      "Number of RDF triples: 185888\n",
      "Number of vocabulary terms:  29860\n",
      "Number of subjects:  15181\n",
      "Constructing Inverted Index  took  5.224881649017334  seconds\n",
      "\n",
      "\n",
      "\n",
      "###### Calculation of PPMIs  starts ######\n",
      "Calculation of PPMIs  took  6.802727699279785  seconds\n",
      "\n",
      "Preprocessing  took  12.041646480560303  seconds\n",
      "\n",
      "/home/sami/pyke-KGE/Experiments/2020-05-25 11:51:27.470009\n",
      "/home/sami/pyke-KGE/Experiments\n",
      "\n",
      "\n",
      "###### Preprocessing  starts ######\n",
      "\n",
      "\n",
      "###### Constructing Inverted Index  starts ######\n",
      "Number of RDF triples: 271916\n",
      "Number of vocabulary terms:  37920\n",
      "Number of subjects:  19211\n",
      "Constructing Inverted Index  took  8.032954454421997  seconds\n",
      "\n",
      "\n",
      "\n",
      "###### Calculation of PPMIs  starts ######\n",
      "Calculation of PPMIs  took  9.963885307312012  seconds\n",
      "\n",
      "Preprocessing  took  18.017202377319336  seconds\n",
      "\n",
      "/home/sami/pyke-KGE/Experiments/2020-05-25 11:51:45.504475\n",
      "/home/sami/pyke-KGE/Experiments\n",
      "\n",
      "\n",
      "###### Preprocessing  starts ######\n",
      "\n",
      "\n",
      "###### Constructing Inverted Index  starts ######\n",
      "Number of RDF triples: 215290\n",
      "Number of vocabulary terms:  32241\n",
      "Number of subjects:  16356\n",
      "Constructing Inverted Index  took  6.057668924331665  seconds\n",
      "\n",
      "\n",
      "\n",
      "###### Calculation of PPMIs  starts ######\n",
      "Calculation of PPMIs  took  6.220534324645996  seconds\n",
      "\n",
      "Preprocessing  took  12.294188976287842  seconds\n",
      "\n"
     ]
    }
   ],
   "source": [
    "kg_root = '/media/sami/70AE0846AE080776/Deleteblank_Experiment/input1'\n",
    "for root, dirs, files in os.walk(kg_root):\n",
    "    for dir in dirs:\n",
    "        newpath = os.path.join(root, dir)\n",
    "        kg_path = newpath + '/'\n",
    "        storage_path, holder = converter(kg_path)"
   ]
  },
  {
   "cell_type": "code",
   "execution_count": 12,
   "metadata": {},
   "outputs": [
    {
     "name": "stdout",
     "output_type": "stream",
     "text": [
      "\n",
      "\n",
      "###### Generating Embeddings:  starts ######\n",
      "EPOCH:  0\n",
      "EPOCH:  1\n",
      "EPOCH:  2\n",
      "EPOCH:  3\n",
      "EPOCH:  4\n",
      "EPOCH:  5\n",
      "EPOCH:  6\n",
      "EPOCH:  7\n",
      "EPOCH:  8\n",
      "EPOCH:  9\n",
      "EPOCH:  10\n",
      "EPOCH:  11\n",
      "EPOCH:  12\n",
      "EPOCH:  13\n",
      "EPOCH:  14\n",
      "EPOCH:  15\n",
      "EPOCH:  16\n",
      "EPOCH:  17\n",
      "EPOCH:  18\n",
      "EPOCH:  19\n",
      "EPOCH:  20\n",
      "EPOCH:  21\n",
      "EPOCH:  22\n",
      "EPOCH:  23\n",
      "EPOCH:  24\n",
      "\n",
      " Epoch:  24\n",
      "System energy: -0.03499999999999983\n",
      "Generating Embeddings:  took  42.51895785331726  seconds\n",
      "\n"
     ]
    }
   ],
   "source": [
    "vocab_size = len(holder)\n",
    "\n",
    "embeddings = ut.randomly_initialize_embedding_space(vocab_size, num_of_dims)\n",
    "\n",
    "model = PYKE()\n",
    "\n",
    "learned_embeddings = model.pipeline_of_learning_embeddings(e=embeddings,\n",
    "                                                           max_iteration=bound_on_iter,\n",
    "                                                           energy_release_at_epoch=e_release,\n",
    "                                                           holder=holder, omega=omega)\n",
    "\n",
    "\n",
    "learned_embeddings.to_csv(storage_path + '/PYKE_50_embd.csv')\n",
    "\n",
    "# To use memory efficiently\n",
    "del holder\n",
    "del embeddings"
   ]
  },
  {
   "cell_type": "code",
   "execution_count": 13,
   "metadata": {},
   "outputs": [
    {
     "data": {
      "text/plain": [
       "16356"
      ]
     },
     "execution_count": 13,
     "metadata": {},
     "output_type": "execute_result"
    }
   ],
   "source": [
    "type_info = ut.deserializer(path=storage_path, serialized_name='type_info')\n",
    "len(type_info)# denoted as \\mathcal{S} in the paper"
   ]
  },
  {
   "cell_type": "code",
   "execution_count": 14,
   "metadata": {},
   "outputs": [
    {
     "data": {
      "text/plain": [
       "4"
      ]
     },
     "execution_count": 14,
     "metadata": {},
     "output_type": "execute_result"
    }
   ],
   "source": [
    "# get the index of objects / get type information =>>> s #type o\n",
    "all_types = sorted(set.union(*list(type_info.values())))\n",
    "len(all_types)# denoted as C in the paper"
   ]
  },
  {
   "cell_type": "code",
   "execution_count": 15,
   "metadata": {},
   "outputs": [
    {
     "name": "stdout",
     "output_type": "stream",
     "text": [
      "http://hm2.com/class#Article\n",
      "http://hm2.com/class#Colour\n",
      "http://hm2.com/class#Size\n",
      "http://hm2.com/class#HM\n"
     ]
    }
   ],
   "source": [
    "vocabulary = ut.deserializer(path=storage_path, serialized_name='vocabulary')\n",
    "for i in all_types:\n",
    "    print(vocabulary[i])"
   ]
  },
  {
   "cell_type": "code",
   "execution_count": 13,
   "metadata": {},
   "outputs": [
    {
     "ename": "TypeError",
     "evalue": "cannot unpack non-iterable int object",
     "output_type": "error",
     "traceback": [
      "\u001b[0;31m---------------------------------------------------------------------------\u001b[0m",
      "\u001b[0;31mTypeError\u001b[0m                                 Traceback (most recent call last)",
      "\u001b[0;32m<ipython-input-13-f8ef6cfc7f39>\u001b[0m in \u001b[0;36m<module>\u001b[0;34m\u001b[0m\n\u001b[0;32m----> 1\u001b[0;31m \u001b[0mva11\u001b[0m\u001b[0;34m,\u001b[0m \u001b[0mval2\u001b[0m \u001b[0;34m=\u001b[0m \u001b[0;36m5\u001b[0m\u001b[0;34m\u001b[0m\u001b[0;34m\u001b[0m\u001b[0m\n\u001b[0m\u001b[1;32m      2\u001b[0m \u001b[0mprint\u001b[0m\u001b[0;34m(\u001b[0m\u001b[0mval1\u001b[0m\u001b[0;34m)\u001b[0m\u001b[0;34m\u001b[0m\u001b[0;34m\u001b[0m\u001b[0m\n\u001b[1;32m      3\u001b[0m \u001b[0mprint\u001b[0m\u001b[0;34m(\u001b[0m\u001b[0mval2\u001b[0m\u001b[0;34m)\u001b[0m\u001b[0;34m\u001b[0m\u001b[0;34m\u001b[0m\u001b[0m\n",
      "\u001b[0;31mTypeError\u001b[0m: cannot unpack non-iterable int object"
     ]
    }
   ],
   "source": []
  },
  {
   "cell_type": "code",
   "execution_count": null,
   "metadata": {},
   "outputs": [],
   "source": []
  }
 ],
 "metadata": {
  "kernelspec": {
   "display_name": "Python 3",
   "language": "python",
   "name": "python3"
  },
  "language_info": {
   "codemirror_mode": {
    "name": "ipython",
    "version": 3
   },
   "file_extension": ".py",
   "mimetype": "text/x-python",
   "name": "python",
   "nbconvert_exporter": "python",
   "pygments_lexer": "ipython3",
   "version": "3.7.6"
  }
 },
 "nbformat": 4,
 "nbformat_minor": 4
}
