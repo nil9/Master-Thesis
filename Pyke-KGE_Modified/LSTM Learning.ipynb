{
 "cells": [
  {
   "cell_type": "code",
   "execution_count": 1,
   "metadata": {},
   "outputs": [
    {
     "name": "stderr",
     "output_type": "stream",
     "text": [
      "Using TensorFlow backend.\n"
     ]
    }
   ],
   "source": [
    "# univariate lstm example\n",
    "from numpy import array\n",
    "from keras.models import Sequential\n",
    "from keras.layers import LSTM\n",
    "from keras.layers import Dense\n",
    "from sklearn.model_selection import train_test_split\n",
    "import pickle\n",
    "import numpy as np\n",
    "import random\n",
    "from scipy import spatial\n",
    "import itertools"
   ]
  },
  {
   "cell_type": "code",
   "execution_count": 2,
   "metadata": {},
   "outputs": [],
   "source": [
    "\n",
    "padded_embedding = pickle.load( open( \"padded_embedding.p\", \"rb\" ) )\n",
    "#print(padded_embedding[1])\n"
   ]
  },
  {
   "cell_type": "code",
   "execution_count": 3,
   "metadata": {},
   "outputs": [],
   "source": [
    "## randomize the list\n",
    "random.shuffle(padded_embedding)\n",
    "\n",
    "training_dataset,test_dataset = train_test_split(padded_embedding, train_size=.80, test_size=.20)\n",
    "\n"
   ]
  },
  {
   "cell_type": "code",
   "execution_count": 5,
   "metadata": {},
   "outputs": [],
   "source": [
    "## dumping the train and test set\n",
    "\n",
    "\n",
    "pickle.dump( training_dataset, open( \"training_data.p\", \"wb\" ) )\n",
    "\n",
    "pickle.dump( test_dataset, open( \"testing_data.p\", \"wb\" ) )"
   ]
  },
  {
   "cell_type": "code",
   "execution_count": 12,
   "metadata": {},
   "outputs": [
    {
     "name": "stdout",
     "output_type": "stream",
     "text": [
      "0\n"
     ]
    }
   ],
   "source": [
    "## In this cell we segrigate inputs and labels for training the model\n",
    "x, y = list(), list()\n",
    "nonecount = list()\n",
    "#print('First padding',a[0])\n",
    "for k,i in enumerate(training_dataset):\n",
    "    if isinstance(i,list):\n",
    "        \n",
    "        seq_x, seq_y = i[:len(i) - 1], i[-1]\n",
    "        x.append(seq_x)\n",
    "        y.append(seq_y)\n",
    "    else:\n",
    "        nonecount.append(k)\n",
    "print(len(nonecount))\n",
    "\n",
    "# convert the list to numpy array\n",
    "num_x_train = np.array(x)\n",
    "num_y_train = np.array(y)"
   ]
  },
  {
   "cell_type": "code",
   "execution_count": 16,
   "metadata": {},
   "outputs": [
    {
     "name": "stdout",
     "output_type": "stream",
     "text": [
      "0\n"
     ]
    }
   ],
   "source": [
    "## In this cell we segrigate inputs and labels for testing the model\n",
    "x_test, y_test = list(), list()\n",
    "nonecount1 = list()\n",
    "#print('First padding',a[0])\n",
    "for k,i in enumerate(test_dataset):\n",
    "    if isinstance(i,list):\n",
    "        \n",
    "        seq_x_test, seq_y_test = i[:len(i) - 1], i[-1]\n",
    "        x_test.append(seq_x_test)\n",
    "        y_test.append(seq_y_test)\n",
    "    else:\n",
    "        nonecount.append(k)\n",
    "print(len(nonecount1))\n",
    "\n",
    "# convert the list to numpy array\n",
    "num_x_test = np.array(x_test)\n",
    "num_y_test = np.array(y_test)"
   ]
  },
  {
   "cell_type": "code",
   "execution_count": 21,
   "metadata": {},
   "outputs": [],
   "source": [
    "# univariate lstm example\n",
    "## with sgd optimizer\n",
    "from numpy import array\n",
    "from keras.models import Sequential\n",
    "from keras.layers import LSTM\n",
    "from keras.layers import Dense\n",
    "from keras import optimizers\n",
    "\n",
    "output_embeddings = []\n",
    "\n",
    "# choose a number of time steps\n",
    "n_steps = 9\n",
    "\n",
    "# reshape from [samples, timesteps] into [samples, timesteps, features]\n",
    "n_features = 50\n",
    "x = num_x_train.reshape((num_x_train.shape[0], num_x_train.shape[1], n_features))\n",
    "y = num_y_train\n",
    "#print(x)\n",
    "# define model\n",
    "model = Sequential()\n",
    "model.add(LSTM(50, activation='relu', input_shape=(n_steps, n_features)))\n",
    "model.add(Dense(50))\n",
    "sgd = optimizers.SGD(lr=0.01, decay=1e-6, momentum=0.9, nesterov=True)\n",
    "model.compile(optimizer=sgd, loss='mse')\n",
    "# fit model\n",
    "model.fit(x, y, epochs=200, verbose=0)\n",
    "# demonstrate prediction\n",
    "x_input = num_x_test\n",
    "x_input = x_input.reshape((num_x_test.shape[0], n_steps, n_features))\n",
    "yhat = model.predict(x_input, verbose=0)\n",
    "#print(yhat)\n",
    "output_embeddings.append(yhat)"
   ]
  },
  {
   "cell_type": "code",
   "execution_count": 22,
   "metadata": {},
   "outputs": [],
   "source": [
    "## dumping the sample outputs\n",
    "pickle.dump( output_embeddings, open( \"output_embeddings.p\", \"wb\" ) )"
   ]
  },
  {
   "cell_type": "code",
   "execution_count": 23,
   "metadata": {},
   "outputs": [],
   "source": [
    "## dumping the original outputs\n",
    "pickle.dump( num_y_test, open( \"original_output_embeddings.p\", \"wb\" ) )"
   ]
  },
  {
   "cell_type": "code",
   "execution_count": 28,
   "metadata": {},
   "outputs": [],
   "source": [
    "# for efficient memory\n",
    "del padded_embedding\n",
    "#del training_dataset,test_dataset\n",
    "del num_x_train\n",
    "del num_y_train\n",
    "del num_x_test\n",
    "\n",
    "del x_test\n",
    "del y_test"
   ]
  },
  {
   "cell_type": "code",
   "execution_count": null,
   "metadata": {},
   "outputs": [],
   "source": []
  }
 ],
 "metadata": {
  "kernelspec": {
   "display_name": "Python 3",
   "language": "python",
   "name": "python3"
  },
  "language_info": {
   "codemirror_mode": {
    "name": "ipython",
    "version": 3
   },
   "file_extension": ".py",
   "mimetype": "text/x-python",
   "name": "python",
   "nbconvert_exporter": "python",
   "pygments_lexer": "ipython3",
   "version": "3.7.6"
  }
 },
 "nbformat": 4,
 "nbformat_minor": 4
}
