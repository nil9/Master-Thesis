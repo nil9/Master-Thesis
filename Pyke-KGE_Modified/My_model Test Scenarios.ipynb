{
 "cells": [
  {
   "cell_type": "code",
   "execution_count": 1,
   "metadata": {},
   "outputs": [],
   "source": [
    "import numpy as np\n",
    "import pickle\n",
    "import itertools\n",
    "from tqdm import tqdm"
   ]
  },
  {
   "cell_type": "code",
   "execution_count": 2,
   "metadata": {},
   "outputs": [],
   "source": [
    "## load original y labels\n",
    "\n",
    "num_y_test = pickle.load( open( \"original_output_embeddings.p\", \"rb\" ) )"
   ]
  },
  {
   "cell_type": "code",
   "execution_count": 3,
   "metadata": {},
   "outputs": [],
   "source": [
    "# Load the dictionary with only the item embeddings\n",
    "\n",
    "item_embedddings = pickle.load( open( \"item_embedddings.p\", \"rb\" ) )"
   ]
  },
  {
   "cell_type": "code",
   "execution_count": 4,
   "metadata": {},
   "outputs": [],
   "source": [
    "## load original keys of y\n",
    "y = []\n",
    "original_output_embeddings = num_y_test.tolist()\n",
    "\n",
    "\n",
    "for i in original_output_embeddings:\n",
    "    for k,v in item_embedddings.items():\n",
    "        if i ==v:\n",
    "            y.append(k)"
   ]
  },
  {
   "cell_type": "code",
   "execution_count": 5,
   "metadata": {},
   "outputs": [],
   "source": [
    "## store the key for y\n",
    "## when I shalltest for top 20 or 50 I just need to upload it inside an array\n",
    "\n",
    "## dumping the train and test set\n",
    "\n",
    "\n",
    "pickle.dump( y, open( \"y_key_mymodel.p\", \"wb\" ) )"
   ]
  },
  {
   "cell_type": "code",
   "execution_count": 6,
   "metadata": {},
   "outputs": [],
   "source": [
    "# Load the output embeddings from LSTM\n",
    "\n",
    "output_embeddings = pickle.load( open( \"output_embeddings.p\", \"rb\" ) )\n",
    "## convert output embedings into 1 -D\n",
    "\n",
    "new_output_embeddings = list(itertools.chain.from_iterable(output_embeddings)) "
   ]
  },
  {
   "cell_type": "code",
   "execution_count": 7,
   "metadata": {},
   "outputs": [],
   "source": [
    "## this cell captures the top n ranked predicted items\n",
    "with open('ranks_index.p', 'rb') as f: \n",
    "    y_hat = [pickle.load(f) for j in range(len(new_output_embeddings))] "
   ]
  },
  {
   "cell_type": "code",
   "execution_count": 14,
   "metadata": {},
   "outputs": [],
   "source": [
    "top3 = []\n",
    "for i in y_hat:\n",
    "    sample1 = []\n",
    "    count = 0\n",
    "    for j in i:\n",
    "        if count<3:                         ## set the count according to top \"n\" requirement\n",
    "            sample1.append(j)\n",
    "            count+=1\n",
    "    top3.append(sample1)"
   ]
  },
  {
   "cell_type": "code",
   "execution_count": 15,
   "metadata": {},
   "outputs": [
    {
     "name": "stdout",
     "output_type": "stream",
     "text": [
      "Learning Ratio is :  1.4492963666140088e-05\n"
     ]
    }
   ],
   "source": [
    "## This cell is to generate the matrix for final learning\n",
    "## so if original label is present in top n prediction labels , increase the count by 1\n",
    "y_arr = [None]* len(y)\n",
    "y_hat_arr_top3 = [None]* len(top3)\n",
    "y_arr = y\n",
    "y_hat_arr_top3 = top3\n",
    "\n",
    "i = 0\n",
    "count = 0\n",
    "while(i<len(y_arr)):\n",
    "    if (y_arr[i] in y_hat_arr_top3[i]):\n",
    "        count +=1\n",
    "    i +=1\n",
    "Ratio = count/len(y_arr)\n",
    "print('Learning Ratio is : ',Ratio)"
   ]
  },
  {
   "cell_type": "code",
   "execution_count": null,
   "metadata": {},
   "outputs": [],
   "source": []
  }
 ],
 "metadata": {
  "kernelspec": {
   "display_name": "Python 3",
   "language": "python",
   "name": "python3"
  },
  "language_info": {
   "codemirror_mode": {
    "name": "ipython",
    "version": 3
   },
   "file_extension": ".py",
   "mimetype": "text/x-python",
   "name": "python",
   "nbconvert_exporter": "python",
   "pygments_lexer": "ipython3",
   "version": "3.7.6"
  }
 },
 "nbformat": 4,
 "nbformat_minor": 4
}
