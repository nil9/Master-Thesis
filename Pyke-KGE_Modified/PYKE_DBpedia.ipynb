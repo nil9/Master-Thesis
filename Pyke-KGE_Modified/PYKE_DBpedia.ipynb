{
 "cells": [
  {
   "cell_type": "code",
   "execution_count": 21,
   "metadata": {},
   "outputs": [],
   "source": [
    "from helper_classes import PYKE\n",
    "from helper_classes import Parser\n",
    "from helper_classes import DataAnalyser\n",
    "from helper_classes import PPMI\n",
    "import os\n",
    "import util as ut\n",
    "import numpy as np\n"
   ]
  },
  {
   "cell_type": "code",
   "execution_count": 22,
   "metadata": {},
   "outputs": [],
   "source": [
    "random_state = 1\n",
    "np.random.seed(random_state)"
   ]
  },
  {
   "cell_type": "markdown",
   "metadata": {},
   "source": [
    "# Learning DBpedia Embedings with PYKE\n",
    "\n",
    "1. Download the following files: \n",
    "+ http://downloads.dbpedia.org/2016-10/core/skos_categories_en.ttl.bz2\n",
    "+ http://downloads.dbpedia.org/2016-10/core/instance_types_en.ttl.bz2\n",
    "+ http://downloads.dbpedia.org/2016-10/core/mappingbased_objects_en.ttl.bz2  \n",
    "\n",
    "2. Locate the file under KGs/DBpedia."
   ]
  },
  {
   "cell_type": "code",
   "execution_count": 23,
   "metadata": {},
   "outputs": [],
   "source": [
    "# DEFINE MODEL PARAMS\n",
    "K = 45\n",
    "num_of_dims = 50\n",
    "bound_on_iter = 30\n",
    "omega = 0.45557\n",
    "e_release = 0.0414"
   ]
  },
  {
   "cell_type": "code",
   "execution_count": 34,
   "metadata": {},
   "outputs": [],
   "source": [
    "def converter(kg_path):\n",
    "    # DEFINE MODEL PARAMS\n",
    "    \n",
    "    storage_path, experiment_folder = ut.create_experiment_folder()\n",
    "\n",
    "    parser = Parser(p_folder=storage_path, k=K)\n",
    "\n",
    "    parser.set_similarity_measure(PPMI)\n",
    "\n",
    "    model = PYKE()\n",
    "\n",
    "    analyser = DataAnalyser(p_folder=storage_path)\n",
    "    # For the illustration purpusoes lets only process first 5000 ntriples from each given file.\n",
    "    # To reproduce  reported results => parser.pipeline_of_preprocessing(kg_path)\n",
    "    holder = parser.pipeline_of_preprocessing(kg_path,bound=5000)\n",
    "    \n",
    "    return storage_path , holder\n",
    "\n",
    "\n",
    "def vec(holder,storage_path):\n",
    "    vocab_size = len(holder)\n",
    "\n",
    "    embeddings = ut.randomly_initialize_embedding_space(vocab_size, num_of_dims)\n",
    "\n",
    "    learned_embeddings = model.pipeline_of_learning_embeddings(e=embeddings,\n",
    "                                                           max_iteration=bound_on_iter,\n",
    "                                                           energy_release_at_epoch=e_release,\n",
    "                                                           holder=holder, omega=omega)\n",
    "\n",
    "\n",
    "    learned_embeddings.to_csv(storage_path + '/PYKE_50_embd.csv')\n",
    "\n",
    "    # To use memory efficiently\n",
    "    del holder\n",
    "    del embeddings"
   ]
  },
  {
   "cell_type": "code",
   "execution_count": 35,
   "metadata": {},
   "outputs": [
    {
     "name": "stdout",
     "output_type": "stream",
     "text": [
      "\n",
      "\n",
      "###### Preprocessing  starts ######\n",
      "\n",
      "\n",
      "###### Constructing Inverted Index  starts ######\n",
      "Number of RDF triples: 40\n",
      "Number of vocabulary terms:  26\n",
      "Number of subjects:  12\n",
      "Constructing Inverted Index  took  0.003039121627807617  seconds\n",
      "\n",
      "\n",
      "\n",
      "###### Calculation of PPMIs  starts ######\n",
      "Calculation of PPMIs  took  0.0048100948333740234  seconds\n",
      "\n",
      "Preprocessing  took  0.008903980255126953  seconds\n",
      "\n",
      "\n",
      "\n",
      "###### Preprocessing  starts ######\n",
      "\n",
      "\n",
      "###### Constructing Inverted Index  starts ######\n",
      "Number of RDF triples: 48\n",
      "Number of vocabulary terms:  33\n",
      "Number of subjects:  18\n",
      "Constructing Inverted Index  took  0.001970052719116211  seconds\n",
      "\n",
      "\n",
      "\n",
      "###### Calculation of PPMIs  starts ######\n",
      "Calculation of PPMIs  took  0.007222890853881836  seconds\n",
      "\n",
      "Preprocessing  took  0.010548830032348633  seconds\n",
      "\n",
      "\n",
      "\n",
      "###### Generating Embeddings:  starts ######\n",
      "EPOCH:  0\n",
      "\n",
      " Epoch:  0\n",
      "System energy: -0.15919999999999981\n",
      "Generating Embeddings:  took  0.003048419952392578  seconds\n",
      "\n"
     ]
    }
   ],
   "source": [
    "kg_root = '/home/sami/pyke-KGE/KGs/DBpedia'\n",
    "for root, dirs, files in os.walk(kg_root):\n",
    "    for dir in dirs:\n",
    "        newpath = os.path.join(root, dir)\n",
    "        kg_path = newpath + '/'\n",
    "        spath, holder = converter(kg_path)\n",
    "\n",
    "vec(holder,spath)\n"
   ]
  },
  {
   "cell_type": "code",
   "execution_count": 32,
   "metadata": {},
   "outputs": [
    {
     "name": "stdout",
     "output_type": "stream",
     "text": [
      "/home/sami/pyke-KGE/Experiments/2020-05-20 01:26:23.121999\n"
     ]
    }
   ],
   "source": [
    "print(a)"
   ]
  },
  {
   "cell_type": "code",
   "execution_count": null,
   "metadata": {},
   "outputs": [],
   "source": [
    "storage_path, experiment_folder = ut.create_experiment_folder()\n",
    "\n",
    "parser = Parser(p_folder=storage_path, k=K)\n",
    "\n",
    "parser.set_similarity_measure(PPMI)\n",
    "\n",
    "model = PYKE()\n",
    "\n",
    "analyser = DataAnalyser(p_folder=storage_path)\n",
    "# For the illustration purpusoes lets only process first 5000 ntriples from each given file.\n",
    "# To reproduce  reported results => parser.pipeline_of_preprocessing(kg_path)\n",
    "holder = parser.pipeline_of_preprocessing(kg_path,bound=5000)"
   ]
  },
  {
   "cell_type": "code",
   "execution_count": 26,
   "metadata": {},
   "outputs": [
    {
     "name": "stdout",
     "output_type": "stream",
     "text": [
      "\n",
      "\n",
      "###### Generating Embeddings:  starts ######\n",
      "EPOCH:  0\n",
      "\n",
      " Epoch:  0\n",
      "System energy: -0.11779999999999982\n",
      "Generating Embeddings:  took  0.006247282028198242  seconds\n",
      "\n"
     ]
    }
   ],
   "source": [
    "vocab_size = len(holder)\n",
    "\n",
    "embeddings = ut.randomly_initialize_embedding_space(vocab_size, num_of_dims)\n",
    "\n",
    "learned_embeddings = model.pipeline_of_learning_embeddings(e=embeddings,\n",
    "                                                           max_iteration=bound_on_iter,\n",
    "                                                           energy_release_at_epoch=e_release,\n",
    "                                                           holder=holder, omega=omega)\n",
    "\n",
    "\n",
    "learned_embeddings.to_csv(storage_path + '/PYKE_50_embd.csv')\n",
    "\n",
    "# To use memory efficiently\n",
    "del holder\n",
    "del embeddings"
   ]
  },
  {
   "cell_type": "code",
   "execution_count": null,
   "metadata": {},
   "outputs": [],
   "source": [
    "type_info = ut.deserializer(path=storage_path, serialized_name='type_info')\n",
    "len(type_info)# denoted as \\mathcal{S} in the paper "
   ]
  },
  {
   "cell_type": "code",
   "execution_count": null,
   "metadata": {},
   "outputs": [],
   "source": [
    "# get the index of objects / get type information =>>> s #type o\n",
    "all_types = sorted(set.union(*list(type_info.values())))\n",
    "len(all_types)# denoted as C in the paper"
   ]
  },
  {
   "cell_type": "code",
   "execution_count": null,
   "metadata": {},
   "outputs": [],
   "source": [
    "vocabulary = ut.deserializer(path=storage_path, serialized_name='vocabulary')\n",
    "for i in all_types:\n",
    "    print(vocabulary[i])"
   ]
  },
  {
   "cell_type": "markdown",
   "metadata": {},
   "source": [
    "# Type predictions"
   ]
  },
  {
   "cell_type": "code",
   "execution_count": null,
   "metadata": {},
   "outputs": [],
   "source": [
    "analyser.perform_clustering_quality(learned_embeddings)"
   ]
  },
  {
   "cell_type": "code",
   "execution_count": null,
   "metadata": {},
   "outputs": [],
   "source": [
    "analyser.perform_type_prediction(learned_embeddings)"
   ]
  }
 ],
 "metadata": {
  "kernelspec": {
   "display_name": "Python 3",
   "language": "python",
   "name": "python3"
  },
  "language_info": {
   "codemirror_mode": {
    "name": "ipython",
    "version": 3
   },
   "file_extension": ".py",
   "mimetype": "text/x-python",
   "name": "python",
   "nbconvert_exporter": "python",
   "pygments_lexer": "ipython3",
   "version": "3.7.6"
  }
 },
 "nbformat": 4,
 "nbformat_minor": 2
}
