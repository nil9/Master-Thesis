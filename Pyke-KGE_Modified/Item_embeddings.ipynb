{
 "cells": [
  {
   "cell_type": "code",
   "execution_count": 1,
   "metadata": {},
   "outputs": [],
   "source": [
    "import pickle\n",
    "import itertools\n",
    "import numpy as np\n",
    "from scipy import spatial\n"
   ]
  },
  {
   "cell_type": "code",
   "execution_count": 2,
   "metadata": {},
   "outputs": [],
   "source": [
    "# Load the overall embeddings received from Pyke\n",
    "\n",
    "entire_embeddings = pickle.load( open( \"Pyke50_pickle.p\", \"rb\" ) )"
   ]
  },
  {
   "cell_type": "code",
   "execution_count": 3,
   "metadata": {},
   "outputs": [
    {
     "name": "stdout",
     "output_type": "stream",
     "text": [
      "151156\n"
     ]
    }
   ],
   "source": [
    "\n",
    "\n",
    "# Creating a dictionary with only the item embeddings\n",
    "\n",
    "\n",
    "# dictionary of item embeddings\n",
    "item_embedddings = {} \n",
    "for key, val in entire_embeddings.items(): \n",
    "    if key.startswith('http://hm2.com/article#'):\n",
    "        \n",
    "        \n",
    "        item_embedddings.update( {key : val} )\n",
    "          \n",
    "print(len(item_embedddings))\n",
    "pickle.dump( item_embedddings, open( \"item_embedddings.p\", \"wb\" ) )"
   ]
  },
  {
   "cell_type": "code",
   "execution_count": null,
   "metadata": {},
   "outputs": [],
   "source": []
  }
 ],
 "metadata": {
  "kernelspec": {
   "display_name": "Python 3",
   "language": "python",
   "name": "python3"
  },
  "language_info": {
   "codemirror_mode": {
    "name": "ipython",
    "version": 3
   },
   "file_extension": ".py",
   "mimetype": "text/x-python",
   "name": "python",
   "nbconvert_exporter": "python",
   "pygments_lexer": "ipython3",
   "version": "3.7.6"
  }
 },
 "nbformat": 4,
 "nbformat_minor": 4
}
